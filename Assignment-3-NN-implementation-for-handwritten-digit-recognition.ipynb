{
  "nbformat": 4,
  "nbformat_minor": 0,
  "metadata": {
    "colab": {
      "name": "Assignment-3-NN-implementation-for-handwritten-digit-recognition",
      "provenance": [],
      "include_colab_link": true
    },
    "kernelspec": {
      "name": "python3",
      "display_name": "Python 3"
    }
  },
  "cells": [
    {
      "cell_type": "markdown",
      "metadata": {
        "id": "view-in-github",
        "colab_type": "text"
      },
      "source": [
        "<a href=\"https://colab.research.google.com/github/jatin69/mca507-neural-networks/blob/master/Assignment-3-NN-implementation-for-handwritten-digit-recognition.ipynb\" target=\"_parent\"><img src=\"https://colab.research.google.com/assets/colab-badge.svg\" alt=\"Open In Colab\"/></a>"
      ]
    },
    {
      "cell_type": "code",
      "metadata": {
        "id": "SKlqC2Xnia7q",
        "colab_type": "code",
        "colab": {}
      },
      "source": [
        "import urllib.request\n",
        "import gzip\n",
        "import numpy as np\n",
        "import matplotlib\n",
        "import os\n",
        "from scipy.stats import truncnorm\n",
        "# matplotlib.use('TkAgg')\n",
        "import matplotlib.pyplot as plt\n"
      ],
      "execution_count": 0,
      "outputs": []
    },
    {
      "cell_type": "code",
      "metadata": {
        "id": "upce0rztxYC2",
        "colab_type": "code",
        "colab": {}
      },
      "source": [
        "def load_dataset():\n",
        "  \"\"\"\n",
        "\timage_size = 28 \n",
        "\timage_pixels = image_size * image_size\n",
        "  \"\"\"\n",
        "  def download(filename, source = \"http://yann.lecun.com/exdb/mnist/\"):\n",
        "    print(\"downloading \", filename)\n",
        "    urllib.request.urlretrieve(source+filename, filename)\n",
        "  \n",
        "  def load_mnist_images(filename):\n",
        "    if not os.path.exists(filename):\n",
        "      download(filename)\n",
        "    with gzip.open(filename,'rb') as f:\n",
        "      data = np.frombuffer(f.read(), np.uint8, offset=16)\n",
        "      data = data.reshape(-1, 1, 28, 28)        \n",
        "      return data/np.float32(256)\n",
        "  \n",
        "  def load_mnist_labels(filename):\n",
        "    if not os.path.exists(filename):\n",
        "      download(filename)\n",
        "    with gzip.open(filename,'rb') as f:\n",
        "      data = np.frombuffer(f.read(), np.uint8, offset=8)\n",
        "      # data = data.reshape(-1, 1, 28, 28)\n",
        "      return data\n",
        "  \n",
        "  X_train = load_mnist_images('train-images-idx3-ubyte.gz')\n",
        "  Y_train = load_mnist_labels('train-labels-idx1-ubyte.gz')\n",
        "  X_test = load_mnist_images('t10k-images-idx3-ubyte.gz')\n",
        "  Y_test = load_mnist_labels('t10k-labels-idx1-ubyte.gz')\n",
        "  # plt.show(plt.imshow(X_train[1][0]))\n",
        "  return X_train, Y_train, X_test, Y_test\n"
      ],
      "execution_count": 0,
      "outputs": []
    },
    {
      "cell_type": "code",
      "metadata": {
        "id": "YtGT-xacwLW3",
        "colab_type": "code",
        "colab": {
          "base_uri": "https://localhost:8080/",
          "height": 35
        },
        "outputId": "d686094d-83db-4763-f606-beb4ef811386"
      },
      "source": [
        "X_train,Y_train,X_test,Y_test = load_dataset()\n",
        "print(\"Dataset loaded.\")\n"
      ],
      "execution_count": 10,
      "outputs": [
        {
          "output_type": "stream",
          "text": [
            "Dataset loaded.\n"
          ],
          "name": "stdout"
        }
      ]
    },
    {
      "cell_type": "code",
      "metadata": {
        "id": "_V5cBkt5ykOd",
        "colab_type": "code",
        "colab": {}
      },
      "source": [
        "training = np.array(X_train)\n",
        "result = training.reshape([60000, 1,1,784])\n",
        "X_train = result.reshape([60000,784])\n",
        "\n",
        "testing = np.array(X_test)\n",
        "result = testing.reshape([10000,1,1,784])\n",
        "X_test = result.reshape([10000,784])\n"
      ],
      "execution_count": 0,
      "outputs": []
    },
    {
      "cell_type": "code",
      "metadata": {
        "id": "L5vGpz33yy6I",
        "colab_type": "code",
        "colab": {}
      },
      "source": [
        "Y_test = Y_test.reshape([-1,1])\n",
        "Y_train = Y_train.reshape([-1,1])\n",
        "\n",
        "X_train = np.asfarray(X_train)\n",
        "Y_train = np.asfarray(Y_train)\n",
        "X_test = np.asfarray(X_test)\n",
        "Y_test = np.asfarray(Y_test)\n",
        "\n",
        "no_of_different_labels = 10 \n",
        "#  i.e. 0, 1, 2, 3, ..., 9\n",
        "\n",
        "lr = np.arange(no_of_different_labels)\n",
        "\n",
        "# transform labels into one hot representation\n",
        "train_labels_one_hot = (lr==Y_train).astype(np.float)\n",
        "test_labels_one_hot = (lr==Y_test).astype(np.float)\n",
        "\n"
      ],
      "execution_count": 0,
      "outputs": []
    },
    {
      "cell_type": "code",
      "metadata": {
        "id": "38Pb8ZG8y3F9",
        "colab_type": "code",
        "colab": {}
      },
      "source": [
        "# we don't want zeroes and ones in the labels neither:\n",
        "train_labels_one_hot[train_labels_one_hot==0] = 0.01\n",
        "train_labels_one_hot[train_labels_one_hot==1] = 0.99\n",
        "test_labels_one_hot[test_labels_one_hot==0] = 0.01\n",
        "test_labels_one_hot[test_labels_one_hot==1] = 0.99\n"
      ],
      "execution_count": 0,
      "outputs": []
    },
    {
      "cell_type": "code",
      "metadata": {
        "id": "bxMxuS8Xy4r8",
        "colab_type": "code",
        "colab": {}
      },
      "source": [
        "@np.vectorize\n",
        "def sigmoid(x):\n",
        "    return 1 / (1 + np.e ** -x)\n",
        "\n",
        "def sigmoidPrime(x):\n",
        "    return x * (1 - x)\n",
        "\n",
        "activation_function = sigmoid\n"
      ],
      "execution_count": 0,
      "outputs": []
    },
    {
      "cell_type": "code",
      "metadata": {
        "id": "pkTWcEHCzFKR",
        "colab_type": "code",
        "colab": {}
      },
      "source": [
        "def truncated_normal(mean=0, sd=1, low=0, upp=10):\n",
        "    return truncnorm((low - mean) / sd, \n",
        "                     (upp - mean) / sd, \n",
        "                     loc=mean, \n",
        "                     scale=sd)\n",
        "\n",
        "def print_status(status):\n",
        "    if status:\n",
        "        return \"Correct\"\n",
        "    return \"Wrong\"\n"
      ],
      "execution_count": 0,
      "outputs": []
    },
    {
      "cell_type": "code",
      "metadata": {
        "id": "2QEtPa86zIpd",
        "colab_type": "code",
        "colab": {}
      },
      "source": [
        "\n",
        "class NeuralNetwork:\n",
        "    \n",
        "    def __init__(self, \n",
        "                 no_of_in_nodes, \n",
        "                 no_of_out_nodes, \n",
        "                 no_of_hidden_nodes,\n",
        "                 learning_rate):\n",
        "        self.no_of_in_nodes = no_of_in_nodes\n",
        "        self.no_of_out_nodes = no_of_out_nodes\n",
        "        self.no_of_hidden_nodes = no_of_hidden_nodes\n",
        "        self.learning_rate = learning_rate \n",
        "        self.create_weight_matrices()\n",
        "        \n",
        "    def create_weight_matrices(self):\n",
        "        \"\"\" \n",
        "        A method to initialize the weight \n",
        "        matrices of the neural network\n",
        "        \"\"\"\n",
        "        rad = 1 / np.sqrt(self.no_of_in_nodes)\n",
        "        X = truncated_normal(mean=0, sd=1, low=-rad, upp=rad)\n",
        "        self.wih = X.rvs((self.no_of_hidden_nodes, self.no_of_in_nodes))\n",
        "        rad = 1 / np.sqrt(self.no_of_hidden_nodes)\n",
        "        X = truncated_normal(mean=0, sd=1, low=-rad, upp=rad)\n",
        "        self.who = X.rvs((self.no_of_out_nodes, \n",
        "self.no_of_hidden_nodes))\n",
        "\n",
        "        #self.wih = np.zeros([self.no_of_hidden_nodes,self.no_of_in_nodes])\n",
        "        #self.who = np.zeros([self.no_of_out_nodes, self.no_of_hidden_nodes])\n",
        "        \n",
        "    \n",
        "    def train(self, input_vector, target_vector):\n",
        "        \"\"\"\n",
        "        input_vector and target_vector can \n",
        "        be tuple, list or ndarray\n",
        "        \"\"\"\n",
        "        \n",
        "\n",
        "\n",
        "        input_vector = np.array(input_vector, ndmin=2).T\n",
        "        target_vector = np.array(target_vector, ndmin=2).T\n",
        "        \n",
        "        output_vector1 = np.dot(self.wih, \n",
        "                                input_vector)\n",
        "        output_hidden = activation_function(output_vector1)\n",
        "        \n",
        "        output_vector2 = np.dot(self.who, \n",
        "                                output_hidden)\n",
        "        output_network = activation_function(output_vector2)\n",
        "        \n",
        "        output_errors = target_vector - output_network\n",
        "        # update the weights:\n",
        "        tmp = output_errors * output_network \\\n",
        "              * (1.0 - output_network)     \n",
        "        tmp = self.learning_rate  * np.dot(tmp, \n",
        "                                           output_hidden.T)\n",
        "        self.who += tmp\n",
        "        # calculate hidden errors:\n",
        "        hidden_errors = np.dot(self.who.T, \n",
        "                               output_errors)\n",
        "        # update the weights:\n",
        "        tmp = hidden_errors * output_hidden * \\\n",
        "              (1.0 - output_hidden)\n",
        "        self.wih += self.learning_rate \\\n",
        "                          * np.dot(tmp, input_vector.T)\n",
        "        \n",
        "        \n",
        "    \n",
        "    def run(self, input_vector):\n",
        "        # input_vector can be tuple, list or ndarray\n",
        "        input_vector = np.array(input_vector, ndmin=2).T\n",
        "        output_vector = np.dot(self.wih, \n",
        "                               input_vector)\n",
        "        output_vector = activation_function(output_vector)\n",
        "        \n",
        "        output_vector = np.dot(self.who, \n",
        "                               output_vector)\n",
        "        output_vector = activation_function(output_vector)\n",
        "    \n",
        "        return output_vector\n",
        "            \n",
        "    \n",
        "    def evaluate(self, data, labels):\n",
        "        corrects, wrongs = 0, 0\n",
        "        for i in range(len(data)):\n",
        "            res = self.run(data[i])\n",
        "            res_max = res.argmax()\n",
        "            if res_max == labels[i]:\n",
        "                corrects += 1\n",
        "            else:\n",
        "                wrongs += 1\n",
        "        return corrects, wrongs\n",
        "            \n"
      ],
      "execution_count": 0,
      "outputs": []
    },
    {
      "cell_type": "code",
      "metadata": {
        "id": "Vs4A0n7jzT-B",
        "colab_type": "code",
        "colab": {}
      },
      "source": [
        "ANN = NeuralNetwork(no_of_in_nodes = image_pixels, \n",
        "                    no_of_out_nodes = 10, \n",
        "                    no_of_hidden_nodes = 100,\n",
        "                    learning_rate = 0.1)\n",
        "  "
      ],
      "execution_count": 0,
      "outputs": []
    },
    {
      "cell_type": "code",
      "metadata": {
        "id": "B0kQYC2CzWTR",
        "colab_type": "code",
        "colab": {}
      },
      "source": [
        "# Train the neural network \n",
        "\n",
        "for i in range(len(X_train)):\n",
        "    ANN.train(X_train[i], train_labels_one_hot[i])"
      ],
      "execution_count": 0,
      "outputs": []
    },
    {
      "cell_type": "code",
      "metadata": {
        "id": "BCE3aribzaH8",
        "colab_type": "code",
        "colab": {
          "base_uri": "https://localhost:8080/",
          "height": 809
        },
        "outputId": "2f6137e7-4b77-4999-842e-33b426c9dce5"
      },
      "source": [
        "print(\"=\"*70)\n",
        "print(\"Actual_Output \", \"Predicted_Output  \", \"Probability              \" ,\"Status\")\n",
        "print(\"=\"*70)\n",
        "\n",
        "for i in range(20):\n",
        "    res = ANN.run(X_test[i])\n",
        "    print(int(Y_test[i][0]),\"                     \", np.argmax(res),\"     \", np.max(res),\"      \",print_status(int(Y_test[i][0]) == np.argmax(res)) )\n",
        "    print(\"-\"*70)\n",
        "# corrects, wrongs = ANN.evaluate(X_train, Y_train)\n",
        "# print(\"Accruracy train: \", corrects / ( corrects + wrongs))\n",
        "corrects, wrongs = ANN.evaluate(X_test, Y_test)\n",
        "print(\"Accruracy: \", corrects / ( corrects + wrongs))\n"
      ],
      "execution_count": 24,
      "outputs": [
        {
          "output_type": "stream",
          "text": [
            "======================================================================\n",
            "Actual_Output  Predicted_Output   Probability               Status\n",
            "======================================================================\n",
            "7                       7       0.9959758257020657        Correct\n",
            "----------------------------------------------------------------------\n",
            "2                       2       0.9686199960970759        Correct\n",
            "----------------------------------------------------------------------\n",
            "1                       1       0.9840553329536605        Correct\n",
            "----------------------------------------------------------------------\n",
            "0                       0       0.9952652501491478        Correct\n",
            "----------------------------------------------------------------------\n",
            "4                       4       0.9889773951302583        Correct\n",
            "----------------------------------------------------------------------\n",
            "1                       1       0.9889321299121715        Correct\n",
            "----------------------------------------------------------------------\n",
            "4                       4       0.9890632019163415        Correct\n",
            "----------------------------------------------------------------------\n",
            "9                       9       0.9969128039581581        Correct\n",
            "----------------------------------------------------------------------\n",
            "5                       5       0.7116201825511171        Correct\n",
            "----------------------------------------------------------------------\n",
            "9                       9       0.9863238883794864        Correct\n",
            "----------------------------------------------------------------------\n",
            "0                       0       0.9914788368361613        Correct\n",
            "----------------------------------------------------------------------\n",
            "6                       6       0.7560265926311363        Correct\n",
            "----------------------------------------------------------------------\n",
            "9                       9       0.9976340089229041        Correct\n",
            "----------------------------------------------------------------------\n",
            "0                       0       0.9976900728470216        Correct\n",
            "----------------------------------------------------------------------\n",
            "1                       1       0.9769591906945514        Correct\n",
            "----------------------------------------------------------------------\n",
            "5                       5       0.9439596277699233        Correct\n",
            "----------------------------------------------------------------------\n",
            "9                       9       0.9828250433458503        Correct\n",
            "----------------------------------------------------------------------\n",
            "7                       7       0.9953409094423442        Correct\n",
            "----------------------------------------------------------------------\n",
            "3                       3       0.8898542682152333        Correct\n",
            "----------------------------------------------------------------------\n",
            "4                       4       0.9916686579267882        Correct\n",
            "----------------------------------------------------------------------\n",
            "Accruracy:  0.9541\n"
          ],
          "name": "stdout"
        }
      ]
    },
    {
      "cell_type": "code",
      "metadata": {
        "id": "qppOmvSEzxha",
        "colab_type": "code",
        "colab": {}
      },
      "source": [
        ""
      ],
      "execution_count": 0,
      "outputs": []
    }
  ]
}