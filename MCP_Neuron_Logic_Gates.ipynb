{
  "nbformat": 4,
  "nbformat_minor": 0,
  "metadata": {
    "colab": {
      "name": "MCP Neuron - Logic Gates.ipynb",
      "version": "0.3.2",
      "provenance": [],
      "collapsed_sections": [],
      "include_colab_link": true
    },
    "kernelspec": {
      "name": "python3",
      "display_name": "Python 3"
    }
  },
  "cells": [
    {
      "cell_type": "markdown",
      "metadata": {
        "id": "view-in-github",
        "colab_type": "text"
      },
      "source": [
        "<a href=\"https://colab.research.google.com/github/jatin69/mca507-neural-networks/blob/master/MCP_Neuron_Logic_Gates.ipynb\" target=\"_parent\"><img src=\"https://colab.research.google.com/assets/colab-badge.svg\" alt=\"Open In Colab\"/></a>"
      ]
    },
    {
      "cell_type": "code",
      "metadata": {
        "id": "0z9iFc3E90Sk",
        "colab_type": "code",
        "colab": {}
      },
      "source": [
        "import numpy as np\n",
        "import pandas as pd"
      ],
      "execution_count": 0,
      "outputs": []
    },
    {
      "cell_type": "code",
      "metadata": {
        "id": "EDu0O2R6-Ysb",
        "colab_type": "code",
        "colab": {}
      },
      "source": [
        "class MCPNeuron(object):\n",
        "  def __init__(self, no_of_inputs, threshhold):\n",
        "    self.no_of_inputs  = no_of_inputs\n",
        "    self.threshhold = threshhold\n",
        "\n",
        "  def activation_function(self, inputs):\n",
        "    \"\"\"\n",
        "    Activation function    : Decides whether neuron will activate or not\n",
        "    Internal function used : g(x) : sum of inputs\n",
        "    \"\"\"\n",
        "    willNeuronActivate = 0\n",
        "    if np.sum(inputs) >= self.threshhold:\n",
        "      willNeuronActivate = 1\n",
        "    else:\n",
        "      willNeuronActivate\n",
        "    return willNeuronActivate\n",
        "\n",
        "  def draw_truth_table(self):\n",
        "    n = self.no_of_inputs\n",
        "    import itertools\n",
        "    all_possible_combinations = np.array([list(i) for i in itertools.product([0, 1], repeat=n)])\n",
        "    input_labels = [\"x\" + str(i) for i in range(1, n+1)]\n",
        "    output_table = pd.DataFrame(all_possible_combinations, columns = input_labels)\n",
        "    output_label = \"y\"\n",
        "    output_value = []\n",
        "    for current_combination in all_possible_combinations:\n",
        "      willNeuronActivate = self.activation_function(current_combination)\n",
        "      output_value.append(willNeuronActivate)\n",
        "      output_table[output_label] = pd.Series(output_value)\n",
        "    \n",
        "    return output_table"
      ],
      "execution_count": 0,
      "outputs": []
    },
    {
      "cell_type": "code",
      "metadata": {
        "id": "taPU7MVZC-uh",
        "colab_type": "code",
        "outputId": "18a11639-54ed-4e7c-8381-08f30632b10a",
        "colab": {
          "base_uri": "https://localhost:8080/",
          "height": 102
        }
      },
      "source": [
        "# AND Gate\n",
        "no_of_inputs = 2; threshhold = no_of_inputs\n",
        "print(MCPNeuron(no_of_inputs, threshhold).draw_truth_table())"
      ],
      "execution_count": 9,
      "outputs": [
        {
          "output_type": "stream",
          "text": [
            "   x1  x2  y\n",
            "0   0   0  0\n",
            "1   0   1  0\n",
            "2   1   0  0\n",
            "3   1   1  1\n"
          ],
          "name": "stdout"
        }
      ]
    },
    {
      "cell_type": "code",
      "metadata": {
        "id": "SdSzpUV6C988",
        "colab_type": "code",
        "outputId": "786a0729-4969-4304-b1ba-f34bc67e7aa5",
        "colab": {
          "base_uri": "https://localhost:8080/",
          "height": 102
        }
      },
      "source": [
        "# OR Gate\n",
        "no_of_inputs = 2; threshhold = 1\n",
        "print(MCPNeuron(no_of_inputs, threshhold).draw_truth_table())"
      ],
      "execution_count": 10,
      "outputs": [
        {
          "output_type": "stream",
          "text": [
            "   x1  x2  y\n",
            "0   0   0  0\n",
            "1   0   1  1\n",
            "2   1   0  1\n",
            "3   1   1  1\n"
          ],
          "name": "stdout"
        }
      ]
    },
    {
      "cell_type": "code",
      "metadata": {
        "id": "fvLCbhW0JZSz",
        "colab_type": "code",
        "outputId": "2ae97390-dceb-4353-f5f2-11a273a945fa",
        "colab": {
          "base_uri": "https://localhost:8080/",
          "height": 170
        }
      },
      "source": [
        "# NOT Gate\n",
        "no_of_inputs = 1; threshhold = -1\n",
        "print(MCPNeuron(no_of_inputs, threshhold).draw_truth_table())\n",
        "\n",
        "no_of_inputs = 1; threshhold = 0\n",
        "print(MCPNeuron(no_of_inputs, threshhold).draw_truth_table())\n",
        "\n",
        "no_of_inputs = 1; threshhold = 1\n",
        "print(MCPNeuron(no_of_inputs, threshhold).draw_truth_table())\n",
        "\n",
        "# NOT gate cant be made without support for inhibition"
      ],
      "execution_count": 13,
      "outputs": [
        {
          "output_type": "stream",
          "text": [
            "   x1  y\n",
            "0   0  1\n",
            "1   1  1\n",
            "   x1  y\n",
            "0   0  1\n",
            "1   1  1\n",
            "   x1  y\n",
            "0   0  0\n",
            "1   1  1\n"
          ],
          "name": "stdout"
        }
      ]
    },
    {
      "cell_type": "code",
      "metadata": {
        "id": "WXsQczs2JfkP",
        "colab_type": "code",
        "colab": {}
      },
      "source": [
        ""
      ],
      "execution_count": 0,
      "outputs": []
    }
  ]
}