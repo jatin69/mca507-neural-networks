{
  "nbformat": 4,
  "nbformat_minor": 0,
  "metadata": {
    "colab": {
      "name": "MCP Neuron - Logic Gates.ipynb",
      "version": "0.3.2",
      "provenance": [],
      "collapsed_sections": [],
      "include_colab_link": true
    },
    "kernelspec": {
      "name": "python3",
      "display_name": "Python 3"
    }
  },
  "cells": [
    {
      "cell_type": "markdown",
      "metadata": {
        "id": "view-in-github",
        "colab_type": "text"
      },
      "source": [
        "<a href=\"https://colab.research.google.com/github/jatin69/mca507-neural-networks/blob/master/MCP_Neuron_Logic_Gates.ipynb\" target=\"_parent\"><img src=\"https://colab.research.google.com/assets/colab-badge.svg\" alt=\"Open In Colab\"/></a>"
      ]
    },
    {
      "cell_type": "code",
      "metadata": {
        "id": "0z9iFc3E90Sk",
        "colab_type": "code",
        "colab": {}
      },
      "source": [
        "import numpy as np\n",
        "import pandas as pd"
      ],
      "execution_count": 0,
      "outputs": []
    },
    {
      "cell_type": "code",
      "metadata": {
        "id": "EDu0O2R6-Ysb",
        "colab_type": "code",
        "colab": {}
      },
      "source": [
        "class MCPNeuron(object):\n",
        "  \n",
        "  def __init__(self, no_of_inputs = 2, inhibition = [0, 0], threshhold = 1):\n",
        "    if(no_of_inputs != len(inhibition)):\n",
        "      print(\"ERROR : Pass inhibition as well in the constructor\")\n",
        "      exit\n",
        "    \n",
        "    inhibition_as_weights = []\n",
        "    for isInhibitory in inhibition:\n",
        "      if isInhibitory == 1:\n",
        "        inhibition_as_weights.append(-100000);\n",
        "      else:\n",
        "        inhibition_as_weights.append(1);\n",
        "    \n",
        "    self.no_of_inputs  = no_of_inputs\n",
        "    self.inhibition = inhibition_as_weights\n",
        "    self.threshhold = threshhold\n",
        "\n",
        "  def activation_function(self, inputs):\n",
        "    \"\"\"\n",
        "    Activation function    : Decides whether neuron will activate or not\n",
        "    Internal function used : g(x) : sum of inputs\n",
        "    \"\"\"\n",
        "    willNeuronActivate = 0\n",
        "    sum_of_inputs_with_inhibition = np.inner(inputs, self.inhibition)\n",
        "    if sum_of_inputs_with_inhibition >= self.threshhold:\n",
        "      willNeuronActivate = 1\n",
        "    else:\n",
        "      willNeuronActivate\n",
        "    return willNeuronActivate\n",
        "\n",
        "  def draw_truth_table(self):\n",
        "    n = self.no_of_inputs\n",
        "    import itertools\n",
        "    all_possible_combinations = np.array([list(i) for i in itertools.product([0, 1], repeat=n)])\n",
        "    input_labels = [\"x\" + str(i) for i in range(1, n+1)]\n",
        "    output_table = pd.DataFrame(all_possible_combinations, columns = input_labels)\n",
        "    output_label = \"y\"\n",
        "    output_value = []\n",
        "    for current_combination in all_possible_combinations:\n",
        "      willNeuronActivate = self.activation_function(current_combination)\n",
        "      output_value.append(willNeuronActivate)\n",
        "      output_table[output_label] = pd.Series(output_value)\n",
        "    \n",
        "    return output_table"
      ],
      "execution_count": 0,
      "outputs": []
    },
    {
      "cell_type": "markdown",
      "metadata": {
        "id": "CMgs7X78HKCs",
        "colab_type": "text"
      },
      "source": [
        "# Inhibitory Input\n",
        "\n",
        "- Set the corresponding inhibition to `0` to treat it as normal input\n",
        "- Set the corresponding inhibition to `1` to treat it as inhibitory input\n",
        "\n",
        "## Working\n",
        "\n",
        "- When a inhibitory input is active (`1` value in our case), the entire result should be `0`\n",
        "- There are multiple ways to achieve this.\n",
        "- In our method, we treated the inhibitory input as a negative weight value, thus ensuring it will never reach threshhold value, thus output will be `0`"
      ]
    },
    {
      "cell_type": "code",
      "metadata": {
        "id": "taPU7MVZC-uh",
        "colab_type": "code",
        "outputId": "1508b126-6788-4d98-a1ce-60b771686589",
        "colab": {
          "base_uri": "https://localhost:8080/",
          "height": 101
        }
      },
      "source": [
        "# AND Gate\n",
        "no_of_inputs = 2; \n",
        "inhibition = [0, 0]\n",
        "threshhold = 2\n",
        "print(MCPNeuron(no_of_inputs, inhibition, threshhold).draw_truth_table())"
      ],
      "execution_count": 51,
      "outputs": [
        {
          "output_type": "stream",
          "text": [
            "   x1  x2  y\n",
            "0   0   0  0\n",
            "1   0   1  0\n",
            "2   1   0  0\n",
            "3   1   1  1\n"
          ],
          "name": "stdout"
        }
      ]
    },
    {
      "cell_type": "code",
      "metadata": {
        "id": "-TUpGRYMI7wC",
        "colab_type": "code",
        "colab": {
          "base_uri": "https://localhost:8080/",
          "height": 101
        },
        "outputId": "59cd2afe-88c1-47fb-8c16-6f9711159c42"
      },
      "source": [
        "# AND Gate with inhibitory input\n",
        "no_of_inputs = 2; \n",
        "inhibition = [0, 1]\n",
        "threshhold = 1\n",
        "print(MCPNeuron(no_of_inputs, inhibition, threshhold).draw_truth_table())"
      ],
      "execution_count": 52,
      "outputs": [
        {
          "output_type": "stream",
          "text": [
            "   x1  x2  y\n",
            "0   0   0  0\n",
            "1   0   1  0\n",
            "2   1   0  1\n",
            "3   1   1  0\n"
          ],
          "name": "stdout"
        }
      ]
    },
    {
      "cell_type": "code",
      "metadata": {
        "id": "WXsQczs2JfkP",
        "colab_type": "code",
        "outputId": "fa2e9dbd-df11-409c-a6fb-8261f331e8ac",
        "colab": {
          "base_uri": "https://localhost:8080/",
          "height": 101
        }
      },
      "source": [
        "# OR Gate\n",
        "no_of_inputs = 2; \n",
        "inhibition = [0, 0]\n",
        "threshhold = 1\n",
        "print(MCPNeuron(no_of_inputs, inhibition, threshhold).draw_truth_table())"
      ],
      "execution_count": 53,
      "outputs": [
        {
          "output_type": "stream",
          "text": [
            "   x1  x2  y\n",
            "0   0   0  0\n",
            "1   0   1  1\n",
            "2   1   0  1\n",
            "3   1   1  1\n"
          ],
          "name": "stdout"
        }
      ]
    },
    {
      "cell_type": "code",
      "metadata": {
        "id": "PZ2DgBIUJHBY",
        "colab_type": "code",
        "colab": {
          "base_uri": "https://localhost:8080/",
          "height": 101
        },
        "outputId": "1f7c5732-3e48-4e2e-d9b4-c002fc78acad"
      },
      "source": [
        "# OR Gate with inhibitory input\n",
        "no_of_inputs = 2; \n",
        "inhibition = [0, 1]\n",
        "threshhold = 1\n",
        "print(MCPNeuron(no_of_inputs, inhibition, threshhold).draw_truth_table())"
      ],
      "execution_count": 54,
      "outputs": [
        {
          "output_type": "stream",
          "text": [
            "   x1  x2  y\n",
            "0   0   0  0\n",
            "1   0   1  0\n",
            "2   1   0  1\n",
            "3   1   1  0\n"
          ],
          "name": "stdout"
        }
      ]
    },
    {
      "cell_type": "code",
      "metadata": {
        "id": "IF4VrgBS-bh8",
        "colab_type": "code",
        "outputId": "0aba1d82-6d0a-4e7a-a36c-ff81a364d26c",
        "colab": {
          "base_uri": "https://localhost:8080/",
          "height": 67
        }
      },
      "source": [
        "# NOT Gate\n",
        "no_of_inputs = 1; \n",
        "inhibition = [1]\n",
        "threshhold = 0\n",
        "print(MCPNeuron(no_of_inputs, inhibition, threshhold).draw_truth_table())"
      ],
      "execution_count": 55,
      "outputs": [
        {
          "output_type": "stream",
          "text": [
            "   x1  y\n",
            "0   0  1\n",
            "1   1  0\n"
          ],
          "name": "stdout"
        }
      ]
    },
    {
      "cell_type": "code",
      "metadata": {
        "id": "Im2LH8hC-e4u",
        "colab_type": "code",
        "outputId": "d4969fa2-ba92-45be-e252-c3a4fbda8bf0",
        "colab": {
          "base_uri": "https://localhost:8080/",
          "height": 101
        }
      },
      "source": [
        "# NAND Gate\n",
        "no_of_inputs = 2; \n",
        "inhibition = [1, 1]\n",
        "threshhold = -1\n",
        "print(MCPNeuron(no_of_inputs, inhibition, threshhold).draw_truth_table())"
      ],
      "execution_count": 56,
      "outputs": [
        {
          "output_type": "stream",
          "text": [
            "   x1  x2  y\n",
            "0   0   0  1\n",
            "1   0   1  1\n",
            "2   1   0  1\n",
            "3   1   1  0\n"
          ],
          "name": "stdout"
        }
      ]
    },
    {
      "cell_type": "code",
      "metadata": {
        "id": "hIux0nZZ_JOm",
        "colab_type": "code",
        "outputId": "f2e5c48a-f536-410c-f33c-8b73ae6c2ef1",
        "colab": {
          "base_uri": "https://localhost:8080/",
          "height": 101
        }
      },
      "source": [
        "# NOR Gate\n",
        "no_of_inputs = 2; \n",
        "inhibition = [1, 1]\n",
        "threshhold = -0.5\n",
        "print(MCPNeuron(no_of_inputs, inhibition, threshhold).draw_truth_table())"
      ],
      "execution_count": 57,
      "outputs": [
        {
          "output_type": "stream",
          "text": [
            "   x1  x2  y\n",
            "0   0   0  1\n",
            "1   0   1  0\n",
            "2   1   0  0\n",
            "3   1   1  0\n"
          ],
          "name": "stdout"
        }
      ]
    },
    {
      "cell_type": "code",
      "metadata": {
        "id": "PyIofck-_WPN",
        "colab_type": "code",
        "colab": {}
      },
      "source": [
        "# XOR gate\n",
        "\n",
        "\"\"\"\n",
        "XOR gate can't be implemented by SINGLE MCP preceptron,\n",
        "because it is not linearly separable\n",
        "\"\"\"\n",
        "\n",
        "# Same goes for XNOR"
      ],
      "execution_count": 0,
      "outputs": []
    },
    {
      "cell_type": "code",
      "metadata": {
        "id": "ErWXbN4kMqvm",
        "colab_type": "code",
        "colab": {}
      },
      "source": [
        ""
      ],
      "execution_count": 0,
      "outputs": []
    }
  ]
}
